{
 "cells": [
  {
   "cell_type": "code",
   "execution_count": 6,
   "metadata": {},
   "outputs": [],
   "source": [
    "import argparse\n",
    "import os\n",
    "import matplotlib.pyplot as plt\n",
    "from tensorboard.backend.event_processing.event_accumulator import EventAccumulator\n",
    "import torch\n",
    "\n",
    "def load_events(log_dir, tag):\n",
    "    \"\"\"\n",
    "    Load scalar events for a given tag from the TensorBoard log directory.\n",
    "    \"\"\"\n",
    "    # Increase the size guidance if needed (default 1000 events may be too few)\n",
    "    event_acc = EventAccumulator(log_dir, size_guidance={'scalars': 10000})\n",
    "    event_acc.Reload()\n",
    "    return event_acc.Scalars(tag)\n",
    "\n",
    "def plot_loss(log_dir):\n",
    "    # Load train and validation loss events\n",
    "    train_events = load_events(log_dir, 'Loss/train')\n",
    "    val_events = load_events(log_dir, 'Loss/validation')\n",
    "    \n",
    "    # Extract steps and loss values\n",
    "    train_steps = [event.step for event in train_events]\n",
    "    train_values = [event.value for event in train_events]\n",
    "    \n",
    "    val_steps = [event.step for event in val_events]\n",
    "    val_values = [event.value for event in val_events]\n",
    "    \n",
    "    # Plot the curves\n",
    "    plt.figure(figsize=(10, 6))\n",
    "    if train_steps:\n",
    "        plt.plot(train_steps, train_values, label='Train Loss', marker='o')\n",
    "    if val_steps:\n",
    "        plt.plot(val_steps, val_values, label='Validation Loss', marker='x')\n",
    "    \n",
    "    plt.xlabel('Epoch (or Step)')\n",
    "    plt.ylabel('Loss')\n",
    "    plt.title('Training and Validation Loss')\n",
    "    plt.legend()\n",
    "    plt.grid(True)\n",
    "    plt.show()\n",
    "\n"
   ]
  },
  {
   "cell_type": "code",
   "execution_count": 7,
   "metadata": {},
   "outputs": [
    {
     "data": {
      "text/plain": [
       "torch.Size([16, 2])"
      ]
     },
     "execution_count": 7,
     "metadata": {},
     "output_type": "execute_result"
    },
    {
     "name": "stderr",
     "output_type": "stream",
     "text": [
      "Bad pipe message: %s [b'\"Not(A:Brand\";v=\"99\", \"Google Chrome\";v=\"133\", \"Chromium\"']\n",
      "Bad pipe message: %s [b'=\"133\"\\r\\nsec-ch-ua-mobile: ?0\\r\\nsec-ch-ua-platform: \"Windows']\n",
      "Bad pipe message: %s [b'\\nUpgrade-Insecure-Requests: 1\\r\\nUs', b'-Agent: Mozilla/5.0 (Windows NT 10.0; Win64; x64) AppleWebKit/537.36 (KHTML, like Gecko) Chrome/133.']\n",
      "Bad pipe message: %s [b'0.0 Safari/537.36\\r\\nAccept: text/html,applicatio']\n",
      "Bad pipe message: %s [b'xhtml+xml,application/xml;q=0.9,image/avif,image/webp,image/apng,*/*;q=0.8,application/signed-exchange;v=b3;q', b'.7\\r\\nSec-Fetch-Site: none\\r\\nSec-Fetch-Mode: navigate\\r\\nSec-Fetc']\n",
      "Bad pipe message: %s [b'ol: max-age=0\\r\\nsec-ch-ua: \"Not(A:Brand\";v=\"99\", \"Google Chrome\";v=\"133\", \"Chromium\";v=\"133\"\\r\\nsec-ch-ua-mobile: ?0\\r\\n']\n",
      "Bad pipe message: %s [b'c-ch-ua-platform: \"Windows\"\\r\\nUpgrade-Insecure-Requests: 1\\r\\nUser-Agent: Mozilla/5.0 (Windows NT 10.0; Win64; x64) A', b'leWebKit/537.36 (KHTML, like Gecko) Chrome/133.0.0.0 Safari/537.36\\r\\nAccept: text/html,application/xhtml+xml,app']\n",
      "Bad pipe message: %s [b'cation/xml;q=0.9,image/avif,image/webp,image/apng,*/*;q=0.8,application/signed-exchange;v=b3;q=0.7\\r\\nSec-Fet', b'-Site: none\\r\\nSec-Fetch-Mode: navigate\\r\\nSec-Fetch-User: ?1\\r\\nSec-Fetch-Dest: document\\r\\nAccept-Encodi']\n",
      "Bad pipe message: %s [b'ol: max-age=0\\r\\nsec-ch-ua: \"Not(A:Brand\";v=\"99\", \"Google Chrome\";v=\"133\", \"Chromium\";v=\"133\"\\r\\nsec-ch-ua-mobile: ?0\\r\\n']\n",
      "Bad pipe message: %s [b'c-ch-ua-platform: \"Windows\"\\r\\nUpgrade-Insecure-Requests: 1\\r\\nUser-Agent: Mozilla/5.0 (Windows NT 10.0; Win64; x64) A', b'leWebKit/537.36 (KHTML, like Gecko) Chrome/133.0.0.0 Safari/537.36\\r\\nAccept: text/html,application/xhtml+xml,app']\n",
      "Bad pipe message: %s [b'cation/xml;q=0.9,image/avif,image/webp,image/apng,*/*;q=0.8,application/signed-exchange;v=b3;q=0.7\\r\\nSec-Fet', b'-Site: cross-site\\r\\nSec-Fetch-Mode: navigate\\r\\nSec-Fetch-User: ?1\\r\\nSec-Fetch-Dest: document\\r\\nAccept-']\n",
      "Bad pipe message: %s [b'coding: gzip, deflate, br, zstd\\r\\nAccept-Language: en-US,en;q=0.9,zh-']\n"
     ]
    }
   ],
   "source": [
    "indices = torch.randint(low=0, high=20, size=(16, 2))\n",
    "indices.shape"
   ]
  }
 ],
 "metadata": {
  "kernelspec": {
   "display_name": "base",
   "language": "python",
   "name": "python3"
  },
  "language_info": {
   "codemirror_mode": {
    "name": "ipython",
    "version": 3
   },
   "file_extension": ".py",
   "mimetype": "text/x-python",
   "name": "python",
   "nbconvert_exporter": "python",
   "pygments_lexer": "ipython3",
   "version": "3.9.12"
  }
 },
 "nbformat": 4,
 "nbformat_minor": 2
}
